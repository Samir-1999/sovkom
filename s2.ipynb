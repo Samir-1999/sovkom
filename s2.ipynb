{
 "cells": [
  {
   "cell_type": "code",
   "execution_count": null,
   "metadata": {},
   "outputs": [],
   "source": [
    "%matplotlib inline\n",
    "from matplotlib import pyplot as plt\n",
    "import csv\n",
    "import os\n",
    "import shutil"
   ]
  },
  {
   "cell_type": "code",
   "execution_count": null,
   "metadata": {},
   "outputs": [],
   "source": [
    "try:\n",
    "    shutil.rmtree('plt')\n",
    "except FileNotFoundError:\n",
    "    pass\n",
    "\n",
    "os.makedirs('plt/absolute')\n",
    "os.makedirs('plt/relative')"
   ]
  },
  {
   "cell_type": "code",
   "execution_count": null,
   "metadata": {},
   "outputs": [],
   "source": [
    "try:\n",
    "    with open('data_out.csv', newline='') as csvfile:\n",
    "        reader = csv.reader(csvfile, delimiter=';')\n",
    "        try:\n",
    "            headers = next(reader)\n",
    "        except StopIteration:\n",
    "            exit()\n",
    "        n = len(headers)\n",
    "        data = [[] for _ in range(n)]\n",
    "        for row in reader:\n",
    "            for i in range(n):\n",
    "                data[i].append(row[i])\n",
    "        data[0] = [d[:10] for d in data[0]]\n",
    "        plt.figure(figsize=(len(data[0])//5, 10), dpi=80)\n",
    "        for i in range(1,n):\n",
    "            if i%2:\n",
    "                data[i] = [float(d) for d in data[i]]\n",
    "                plt.clf()\n",
    "                plt.title(f'Сумма выдач для точки {headers[i]}')\n",
    "                plt.ylabel('Сумма выдач')\n",
    "                plt.xlabel('Дата')\n",
    "                plt.plot(data[0],data[i])\n",
    "                plt.plot(data[0],data[i],'o')\n",
    "                plt.xticks(rotation=90)\n",
    "                plt.savefig(f'plt/absolute/{headers[i]}.png')\n",
    "            else:\n",
    "                data[i] = [int(d[:-1]) for d in data[i]]\n",
    "                plt.clf()\n",
    "                plt.title(f'Относительный объем выдач для точки {headers[i]}')\n",
    "                plt.ylabel('Процент суммы выдач в точке от общей суммы')\n",
    "                plt.xlabel('Дата')\n",
    "                plt.plot(data[0],data[i])\n",
    "                plt.plot(data[0],data[i],'o')\n",
    "                plt.ylim([0,100])\n",
    "                plt.xticks(rotation=90)\n",
    "                plt.savefig(f'plt/relative/{headers[i]}.png')\n",
    "except FileNotFoundError:\n",
    "    print('File data_out.csv not found.')"
   ]
  },
  {
   "cell_type": "code",
   "execution_count": null,
   "metadata": {},
   "outputs": [],
   "source": []
  }
 ],
 "metadata": {
  "kernelspec": {
   "display_name": "Python 3",
   "language": "python",
   "name": "python3"
  },
  "language_info": {
   "codemirror_mode": {
    "name": "ipython",
    "version": 3
   },
   "file_extension": ".py",
   "mimetype": "text/x-python",
   "name": "python",
   "nbconvert_exporter": "python",
   "pygments_lexer": "ipython3",
   "version": "3.7.1"
  }
 },
 "nbformat": 4,
 "nbformat_minor": 2
}
