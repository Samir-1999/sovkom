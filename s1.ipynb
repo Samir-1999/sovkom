{
 "cells": [
  {
   "cell_type": "code",
   "execution_count": 2,
   "metadata": {},
   "outputs": [],
   "source": [
    "import csv\n",
    "from datetime import datetime"
   ]
  },
  {
   "cell_type": "code",
   "execution_count": 5,
   "metadata": {},
   "outputs": [],
   "source": [
    "input_filename = 'data.csv'\n",
    "\n",
    "try:\n",
    "    with open(input_filename, newline='') as csvfile:\n",
    "        reader = csv.reader(csvfile, delimiter=';')\n",
    "        try:\n",
    "            next(reader) #skip headers\n",
    "        except StopIteration:\n",
    "            exit()\n",
    "        data_out = {}\n",
    "        poses = set() \n",
    "        for row in reader:\n",
    "            try:\n",
    "                date = datetime.strptime(row[3],'%Y-%m-%d %H:%M:%S')\n",
    "                pos = int(row[1])\n",
    "                amount = float(row[2])\n",
    "            except (ValueError, IndexError):\n",
    "                print('Row with invalid format.')\n",
    "                print(row)\n",
    "                exit()\n",
    "            poses.add(pos)\n",
    "            if date in data_out:\n",
    "                if pos in data_out[date]:\n",
    "                    data_out[date][pos] += amount\n",
    "                else:\n",
    "                    data_out[date][pos] = amount\n",
    "            else:\n",
    "                data_out[date] = {pos:amount}\n",
    "except FileNotFoundError:\n",
    "    print(f'File {input_filename} not found.')\n",
    "    exit()"
   ]
  },
  {
   "cell_type": "code",
   "execution_count": 6,
   "metadata": {},
   "outputs": [],
   "source": [
    "with open('data_out.csv','w') as out_file:\n",
    "    out_file.write('Data/Pos;')\n",
    "    n_pos = len(poses)\n",
    "    i = 0\n",
    "    for pos in sorted(poses):\n",
    "        out_file.write(str(pos)+';')\n",
    "        out_file.write(str(pos))\n",
    "        if i!=n_pos-1:\n",
    "            out_file.write(';')\n",
    "        i+=1\n",
    "    out_file.write('\\n')\n",
    "    for date in sorted(data_out.keys()):\n",
    "        out_file.write(str(date)+';')\n",
    "        i = 0\n",
    "        day_data = data_out[date]\n",
    "        day_sum = sum([day_data[pos] for pos in day_data])\n",
    "        for pos in sorted(poses):\n",
    "            try:\n",
    "                out_file.write(\"{:.2f};\".format(day_data[pos]))\n",
    "                out_file.write(str(int(day_data[pos]/day_sum*100))+'%')\n",
    "            except KeyError:\n",
    "                out_file.write('0;')\n",
    "                out_file.write('0%')\n",
    "            if i!=n_pos-1:\n",
    "                out_file.write(';')\n",
    "            i+=1\n",
    "        out_file.write('\\n')"
   ]
  },
  {
   "cell_type": "code",
   "execution_count": null,
   "metadata": {},
   "outputs": [],
   "source": []
  }
 ],
 "metadata": {
  "kernelspec": {
   "display_name": "Python 3",
   "language": "python",
   "name": "python3"
  },
  "language_info": {
   "codemirror_mode": {
    "name": "ipython",
    "version": 3
   },
   "file_extension": ".py",
   "mimetype": "text/x-python",
   "name": "python",
   "nbconvert_exporter": "python",
   "pygments_lexer": "ipython3",
   "version": "3.7.1"
  }
 },
 "nbformat": 4,
 "nbformat_minor": 2
}
